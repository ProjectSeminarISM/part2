{
 "cells": [
  {
   "cell_type": "markdown",
   "metadata": {},
   "source": [
    "#### Note: This is a simplified and more explainable version from: https://pytorch.org/tutorials/beginner/transfer_learning_tutorial.html"
   ]
  },
  {
   "cell_type": "code",
   "execution_count": 1,
   "metadata": {},
   "outputs": [],
   "source": [
    "import torch\n",
    "import torch.nn as nn\n",
    "import torch.optim as optim\n",
    "from torch.optim import lr_scheduler\n",
    "import torchvision\n",
    "from torch.autograd import Variable\n",
    "from torchvision import datasets, models, transforms\n",
    "import os\n",
    "import numpy as np"
   ]
  },
  {
   "cell_type": "code",
   "execution_count": 2,
   "metadata": {},
   "outputs": [],
   "source": [
    "# Data augmentation and normalization for training\n",
    "# Just normalization for validation\n",
    "#class torchvision.transforms.RandomResizedCrop(size, scale=(0.08, 1.0), ratio=(0.75, 1.3333333333333333), interpolation=2)\n",
    "#transforms.RandomResizedCrop(224) --> A crop of random size (default: of 0.08 to 1.0) of the original size and a \n",
    "#random aspect ratio (default: of 3/4 to 4/3) of the original aspect ratio is made. \n",
    "#This crop is finally resized to given size (224 in this case). \n",
    "#transforms.CenterCrop(224)--> Crops the image at the center. 224 is the Desired output size of the crop.\n",
    "#class torchvision.transforms.Normalize(mean, std)\n",
    "#Normalize a tensor image with mean and standard deviation. Given mean: (M1,...,Mn) and std: (S1,..,Sn) for n channels, \n",
    "#this transform will normalize each channel of the input torch.Tensor i.e. \n",
    "#input[channel] = (input[channel] - mean[channel]) / std[channel]\n",
    "#Parameters:     mean (sequence) – Sequence of means for each channel.\n",
    "#                std (sequence) – Sequence of standard deviations for each channel.\n",
    "data_transforms = {\n",
    "    'train': transforms.Compose([\n",
    "        #transforms.RandomResizedCrop(224),\n",
    "        transforms.CenterCrop(224),\n",
    "        #transforms.RandomHorizontalFlip(),\n",
    "        transforms.ToTensor(),\n",
    "        #transforms.Normalize([0.485, 0.456, 0.406], [0.229, 0.224, 0.225])\n",
    "    ]),\n",
    "    'val': transforms.Compose([\n",
    "        #transforms.Resize(256),\n",
    "        transforms.CenterCrop(224),\n",
    "        transforms.ToTensor(),\n",
    "        #transforms.Normalize([0.485, 0.456, 0.406], [0.229, 0.224, 0.225])\n",
    "    ]),\n",
    "}"
   ]
  },
  {
   "cell_type": "code",
   "execution_count": 3,
   "metadata": {},
   "outputs": [
    {
     "name": "stdout",
     "output_type": "stream",
     "text": [
      "Class Names: ['AKIEC', 'BCC', 'BKL', 'DF', 'MEL', 'NV', 'VASC']\n",
      "There are 1876 batches in the training set\n",
      "There are 628 batches in the test set\n",
      "There are 7504 training images\n",
      "There are 2511 testing images\n"
     ]
    }
   ],
   "source": [
    "data_dir = 'lesion_data_multiclass'\n",
    "#Create a dictionary that contains the information of the images in both the training and validation set\n",
    "image_datasets = {x: datasets.ImageFolder(os.path.join(data_dir, x),data_transforms[x]) for x in ['train', 'val']}\n",
    "#Create a dictionary that contians the data loader\n",
    "dataloaders = {x: torch.utils.data.DataLoader(image_datasets[x], \n",
    "                                              batch_size=4,\n",
    "                                              shuffle=True) for x in ['train', 'val']}\n",
    "\n",
    "#Create a dictionary that contains the size of each dataset (training and validation)\n",
    "dataset_sizes = {x: len(image_datasets[x]) for x in ['train', 'val']}\n",
    "#Get the class names\n",
    "class_names = image_datasets['train'].classes\n",
    "#Print out the results \n",
    "print(\"Class Names: {}\".format(class_names))\n",
    "print(\"There are {} batches in the training set\".format(len(dataloaders['train'])))\n",
    "print(\"There are {} batches in the test set\".format(len(dataloaders['val'])))\n",
    "print(\"There are {} training images\".format(dataset_sizes['train']))\n",
    "print(\"There are {} testing images\".format(dataset_sizes['val']))"
   ]
  },
  {
   "cell_type": "code",
   "execution_count": 4,
   "metadata": {},
   "outputs": [
    {
     "name": "stderr",
     "output_type": "stream",
     "text": [
      "Downloading: \"https://download.pytorch.org/models/resnet18-5c106cde.pth\" to C:\\Users\\satya/.torch\\models\\resnet18-5c106cde.pth\n",
      "100%|████████████████████████████████████████████████████████████████| 46827520/46827520 [00:02<00:00, 17424188.85it/s]\n"
     ]
    }
   ],
   "source": [
    "#Load the ResNet\n",
    "model_conv = torchvision.models.resnet18(pretrained=True)"
   ]
  },
  {
   "cell_type": "code",
   "execution_count": 5,
   "metadata": {},
   "outputs": [],
   "source": [
    "#Freeze all layers in the network  \n",
    "for param in model_conv.parameters():  \n",
    "    param.requires_grad = False"
   ]
  },
  {
   "cell_type": "code",
   "execution_count": 6,
   "metadata": {},
   "outputs": [],
   "source": [
    "#Get the number of inputs of the last layer (or number of neurons in the layer preceeding the last layer)\n",
    "num_ftrs = model_conv.fc.in_features\n",
    "#Reconstruct the last layer (output layer) to have seven classes \n",
    "model_conv.fc = nn.Linear(num_ftrs, 7)"
   ]
  },
  {
   "cell_type": "code",
   "execution_count": 7,
   "metadata": {},
   "outputs": [],
   "source": [
    "if torch.cuda.is_available():\n",
    "    model_conv = model_conv.cuda()"
   ]
  },
  {
   "cell_type": "code",
   "execution_count": 8,
   "metadata": {
    "scrolled": true
   },
   "outputs": [
    {
     "name": "stdout",
     "output_type": "stream",
     "text": [
      "For one iteration, this is what happens:\n",
      "Input Shape: torch.Size([4, 3, 224, 224])\n",
      "Labels Shape: torch.Size([4])\n",
      "Labels are: tensor([5, 5, 5, 5], device='cuda:0')\n",
      "Output Tensor: tensor([[-0.0746, -0.6590,  0.9036, -0.3128,  0.0759,  1.3377,  0.0864],\n",
      "        [-0.1646,  1.3484,  0.2987, -0.1901, -0.3921,  1.0279, -1.0082],\n",
      "        [ 0.2331, -0.5984,  0.0191, -0.5407,  0.0235,  0.2720,  0.1723],\n",
      "        [ 0.0258, -0.3740,  0.3849, -0.5121,  0.2628,  1.2718, -0.3611]],\n",
      "       device='cuda:0', grad_fn=<AddmmBackward>)\n",
      "Outputs Shape torch.Size([4, 7])\n",
      "Predicted: tensor([5, 1, 5, 5], device='cuda:0')\n",
      "Predicted Shape torch.Size([4])\n",
      "Correct Predictions: tensor(3, device='cuda:0')\n"
     ]
    }
   ],
   "source": [
    "#Understand what's happening\n",
    "iteration = 0\n",
    "correct = 0\n",
    "for inputs,labels in dataloaders['train']:\n",
    "    if iteration==1:\n",
    "        break\n",
    "    inputs = Variable(inputs)\n",
    "    labels = Variable(labels)\n",
    "    if torch.cuda.is_available():\n",
    "        inputs = inputs.cuda()\n",
    "        labels = labels.cuda()\n",
    "    print(\"For one iteration, this is what happens:\")\n",
    "    print(\"Input Shape:\",inputs.shape)\n",
    "    print(\"Labels Shape:\",labels.shape)\n",
    "    print(\"Labels are: {}\".format(labels))\n",
    "    output = model_conv(inputs)\n",
    "    print(\"Output Tensor:\", output)\n",
    "    print(\"Outputs Shape\",output.shape)\n",
    "    _, predicted = torch.max(output, 1)\n",
    "    print(\"Predicted:\", predicted)\n",
    "    print(\"Predicted Shape\",predicted.shape)\n",
    "    correct += (predicted == labels).sum()   \n",
    "    print(\"Correct Predictions:\",correct)\n",
    "    \n",
    "    iteration += 1"
   ]
  },
  {
   "cell_type": "code",
   "execution_count": 9,
   "metadata": {},
   "outputs": [],
   "source": [
    "criterion = nn.CrossEntropyLoss()\n",
    "optimizer = optim.SGD(model_conv.fc.parameters(), lr=0.001, momentum=0.9)\n",
    "#Try experimenting with: optim.Adam(model_conv.fc.parameters(), lr=0.001)\n",
    "#Decay LR by a factor of 0.1 every 7 epochs\n",
    "exp_lr_scheduler = lr_scheduler.StepLR(optimizer, step_size=7, gamma=0.1)"
   ]
  },
  {
   "cell_type": "code",
   "execution_count": 10,
   "metadata": {},
   "outputs": [
    {
     "name": "stdout",
     "output_type": "stream",
     "text": [
      "Epoch [1/5], Loss: 1.2982, Train Accuracy: 67.87046908315565%\n",
      "Epoch [2/5], Loss: 0.8775, Train Accuracy: 69.56289978678038%\n",
      "Epoch [3/5], Loss: 0.2006, Train Accuracy: 70.29584221748401%\n",
      "Epoch [4/5], Loss: 0.1052, Train Accuracy: 70.56236673773988%\n",
      "Epoch [5/5], Loss: 0.0896, Train Accuracy: 70.48240938166312%\n"
     ]
    }
   ],
   "source": [
    "num_epochs = 5\n",
    "for epoch in range (num_epochs):\n",
    "    exp_lr_scheduler.step()\n",
    "    #Reset the correct to 0 after passing through all the dataset\n",
    "    correct = 0\n",
    "    for images,labels in dataloaders['train']:\n",
    "        images = Variable(images)\n",
    "        labels = Variable(labels)\n",
    "        if torch.cuda.is_available():\n",
    "            images = images.cuda()\n",
    "            labels = labels.cuda()\n",
    "            \n",
    "        optimizer.zero_grad()\n",
    "        outputs = model_conv(images)\n",
    "        loss = criterion(outputs, labels)\n",
    "        loss.backward()\n",
    "        optimizer.step()  \n",
    "        _, predicted = torch.max(outputs, 1) \n",
    "        correct += (predicted == labels).sum()\n",
    "        \n",
    "    train_acc = 100 * correct.item() / dataset_sizes['train']    \n",
    "    print ('Epoch [{}/{}], Loss: {:.4f}, Train Accuracy: {}%'\n",
    "            .format(epoch+1, num_epochs, loss.item(), train_acc))"
   ]
  },
  {
   "cell_type": "code",
   "execution_count": 12,
   "metadata": {},
   "outputs": [
    {
     "name": "stdout",
     "output_type": "stream",
     "text": [
      "Test Accuracy: 73.317 %\n"
     ]
    }
   ],
   "source": [
    "# Test the model\n",
    "model_conv.eval()  \n",
    "with torch.no_grad():\n",
    "    correct = 0\n",
    "    total = 0\n",
    "    for (images, labels) in dataloaders['val']:\n",
    "        images = Variable(images)\n",
    "        labels = Variable(labels)\n",
    "        if torch.cuda.is_available():\n",
    "            images = images.cuda()\n",
    "            labels = labels.cuda()\n",
    "\n",
    "        outputs = model_conv(images)\n",
    "        _, predicted = torch.max(outputs.data, 1)\n",
    "        total += labels.size(0)\n",
    "        correct += (predicted == labels).sum().item()\n",
    "\n",
    "    print('Test Accuracy: {:.3f} %'.format(100 * correct / total))"
   ]
  },
  {
   "cell_type": "code",
   "execution_count": 13,
   "metadata": {},
   "outputs": [],
   "source": [
    "#Visualize some predictions \n",
    "import matplotlib.pyplot as plt\n",
    "fig = plt.figure()\n",
    "shown_batch = 0\n",
    "index = 0\n",
    "with torch.no_grad():\n",
    "    for (images, labels) in dataloaders['val']:\n",
    "        if shown_batch == 1:\n",
    "            break\n",
    "        shown_batch += 1\n",
    "        images = Variable(images)\n",
    "        labels = Variable(labels)\n",
    "        if torch.cuda.is_available():\n",
    "            images = images.cuda()\n",
    "            labels = labels.cuda()\n",
    "\n",
    "        outputs = model_conv(images)                            #The output is of shape (4,2)\n",
    "        _, preds = torch.max(outputs, 1)                        #The pred is of shape (4) --> [ 0,  0,  0,  1]\n",
    "        \n",
    "        for i in range(4):\n",
    "            index += 1\n",
    "            ax = plt.subplot(2,2,index)\n",
    "            ax.axis('off')\n",
    "            ax.set_title('Predicted Label: {}'.format(class_names[preds[i]]))\n",
    "            input_img = images.cpu().data[i]                    #Get the tensor of the image, and put it to cpu  \n",
    "            inp = input_img.numpy().transpose((1, 2, 0))        #If we have a tensor of shape (2,3,4) --> it becomes (3,4,2)\n",
    "            mean = np.array([0.485, 0.456, 0.406])\n",
    "            std = np.array([0.229, 0.224, 0.225])\n",
    "            inp = std * inp + mean\n",
    "            inp = np.clip(inp, 0, 1)\n",
    "            plt.imshow(inp)"
   ]
  },
  {
   "cell_type": "code",
   "execution_count": null,
   "metadata": {},
   "outputs": [],
   "source": []
  }
 ],
 "metadata": {
  "kernelspec": {
   "display_name": "Python 3",
   "language": "python",
   "name": "python3"
  },
  "language_info": {
   "codemirror_mode": {
    "name": "ipython",
    "version": 3
   },
   "file_extension": ".py",
   "mimetype": "text/x-python",
   "name": "python",
   "nbconvert_exporter": "python",
   "pygments_lexer": "ipython3",
   "version": "3.7.1"
  }
 },
 "nbformat": 4,
 "nbformat_minor": 2
}
